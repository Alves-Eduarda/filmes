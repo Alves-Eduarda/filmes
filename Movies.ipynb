{
 "cells": [
  {
   "cell_type": "code",
   "execution_count": 154,
   "metadata": {},
   "outputs": [],
   "source": [
    "# Importando as bibliotecas\n",
    "import pandas as pd\n",
    "import numpy as np\n",
    "import matplotlib.pyplot as plt\n",
    "from ast import literal_eval\n",
    "import datetime as dt\n",
    "import seaborn as sns\n",
    "import scipy.stats as stats\n",
    "%matplotlib inline"
   ]
  },
  {
   "cell_type": "code",
   "execution_count": 31,
   "metadata": {},
   "outputs": [],
   "source": [
    "# Lendo a planilha\n",
    "movie = pd.read_csv('movies_metadata.csv',sep=',',low_memory=False)"
   ]
  },
  {
   "cell_type": "markdown",
   "metadata": {},
   "source": [
    "# Setando as configurações de visualização do dataset"
   ]
  },
  {
   "cell_type": "code",
   "execution_count": 32,
   "metadata": {},
   "outputs": [],
   "source": [
    "pd.set_option('display.max_columns',None,'max_rows',None,'max_info_columns',100)\n",
    "pd.options.display.float_format = '{:.2f}'.format"
   ]
  },
  {
   "cell_type": "markdown",
   "metadata": {},
   "source": [
    "# Limpando os dados"
   ]
  },
  {
   "cell_type": "code",
   "execution_count": 33,
   "metadata": {},
   "outputs": [
    {
     "data": {
      "text/html": [
       "<div>\n",
       "<style scoped>\n",
       "    .dataframe tbody tr th:only-of-type {\n",
       "        vertical-align: middle;\n",
       "    }\n",
       "\n",
       "    .dataframe tbody tr th {\n",
       "        vertical-align: top;\n",
       "    }\n",
       "\n",
       "    .dataframe thead th {\n",
       "        text-align: right;\n",
       "    }\n",
       "</style>\n",
       "<table border=\"1\" class=\"dataframe\">\n",
       "  <thead>\n",
       "    <tr style=\"text-align: right;\">\n",
       "      <th></th>\n",
       "      <th>adult</th>\n",
       "      <th>belongs_to_collection</th>\n",
       "      <th>budget</th>\n",
       "      <th>genres</th>\n",
       "      <th>homepage</th>\n",
       "      <th>id</th>\n",
       "      <th>imdb_id</th>\n",
       "      <th>original_language</th>\n",
       "      <th>original_title</th>\n",
       "      <th>overview</th>\n",
       "      <th>popularity</th>\n",
       "      <th>poster_path</th>\n",
       "      <th>production_companies</th>\n",
       "      <th>production_countries</th>\n",
       "      <th>release_date</th>\n",
       "      <th>revenue</th>\n",
       "      <th>runtime</th>\n",
       "      <th>spoken_languages</th>\n",
       "      <th>status</th>\n",
       "      <th>tagline</th>\n",
       "      <th>title</th>\n",
       "      <th>video</th>\n",
       "      <th>vote_average</th>\n",
       "      <th>vote_count</th>\n",
       "    </tr>\n",
       "  </thead>\n",
       "  <tbody>\n",
       "    <tr>\n",
       "      <td>0</td>\n",
       "      <td>False</td>\n",
       "      <td>{'id': 10194, 'name': 'Toy Story Collection', ...</td>\n",
       "      <td>30000000</td>\n",
       "      <td>[{'id': 16, 'name': 'Animation'}, {'id': 35, '...</td>\n",
       "      <td>http://toystory.disney.com/toy-story</td>\n",
       "      <td>862</td>\n",
       "      <td>tt0114709</td>\n",
       "      <td>en</td>\n",
       "      <td>Toy Story</td>\n",
       "      <td>Led by Woody, Andy's toys live happily in his ...</td>\n",
       "      <td>21.946943</td>\n",
       "      <td>/rhIRbceoE9lR4veEXuwCC2wARtG.jpg</td>\n",
       "      <td>[{'name': 'Pixar Animation Studios', 'id': 3}]</td>\n",
       "      <td>[{'iso_3166_1': 'US', 'name': 'United States o...</td>\n",
       "      <td>1995-10-30</td>\n",
       "      <td>373554033.00</td>\n",
       "      <td>81.00</td>\n",
       "      <td>[{'iso_639_1': 'en', 'name': 'English'}]</td>\n",
       "      <td>Released</td>\n",
       "      <td>NaN</td>\n",
       "      <td>Toy Story</td>\n",
       "      <td>False</td>\n",
       "      <td>7.70</td>\n",
       "      <td>5415.00</td>\n",
       "    </tr>\n",
       "    <tr>\n",
       "      <td>1</td>\n",
       "      <td>False</td>\n",
       "      <td>NaN</td>\n",
       "      <td>65000000</td>\n",
       "      <td>[{'id': 12, 'name': 'Adventure'}, {'id': 14, '...</td>\n",
       "      <td>NaN</td>\n",
       "      <td>8844</td>\n",
       "      <td>tt0113497</td>\n",
       "      <td>en</td>\n",
       "      <td>Jumanji</td>\n",
       "      <td>When siblings Judy and Peter discover an encha...</td>\n",
       "      <td>17.015539</td>\n",
       "      <td>/vzmL6fP7aPKNKPRTFnZmiUfciyV.jpg</td>\n",
       "      <td>[{'name': 'TriStar Pictures', 'id': 559}, {'na...</td>\n",
       "      <td>[{'iso_3166_1': 'US', 'name': 'United States o...</td>\n",
       "      <td>1995-12-15</td>\n",
       "      <td>262797249.00</td>\n",
       "      <td>104.00</td>\n",
       "      <td>[{'iso_639_1': 'en', 'name': 'English'}, {'iso...</td>\n",
       "      <td>Released</td>\n",
       "      <td>Roll the dice and unleash the excitement!</td>\n",
       "      <td>Jumanji</td>\n",
       "      <td>False</td>\n",
       "      <td>6.90</td>\n",
       "      <td>2413.00</td>\n",
       "    </tr>\n",
       "    <tr>\n",
       "      <td>2</td>\n",
       "      <td>False</td>\n",
       "      <td>{'id': 119050, 'name': 'Grumpy Old Men Collect...</td>\n",
       "      <td>0</td>\n",
       "      <td>[{'id': 10749, 'name': 'Romance'}, {'id': 35, ...</td>\n",
       "      <td>NaN</td>\n",
       "      <td>15602</td>\n",
       "      <td>tt0113228</td>\n",
       "      <td>en</td>\n",
       "      <td>Grumpier Old Men</td>\n",
       "      <td>A family wedding reignites the ancient feud be...</td>\n",
       "      <td>11.7129</td>\n",
       "      <td>/6ksm1sjKMFLbO7UY2i6G1ju9SML.jpg</td>\n",
       "      <td>[{'name': 'Warner Bros.', 'id': 6194}, {'name'...</td>\n",
       "      <td>[{'iso_3166_1': 'US', 'name': 'United States o...</td>\n",
       "      <td>1995-12-22</td>\n",
       "      <td>0.00</td>\n",
       "      <td>101.00</td>\n",
       "      <td>[{'iso_639_1': 'en', 'name': 'English'}]</td>\n",
       "      <td>Released</td>\n",
       "      <td>Still Yelling. Still Fighting. Still Ready for...</td>\n",
       "      <td>Grumpier Old Men</td>\n",
       "      <td>False</td>\n",
       "      <td>6.50</td>\n",
       "      <td>92.00</td>\n",
       "    </tr>\n",
       "    <tr>\n",
       "      <td>3</td>\n",
       "      <td>False</td>\n",
       "      <td>NaN</td>\n",
       "      <td>16000000</td>\n",
       "      <td>[{'id': 35, 'name': 'Comedy'}, {'id': 18, 'nam...</td>\n",
       "      <td>NaN</td>\n",
       "      <td>31357</td>\n",
       "      <td>tt0114885</td>\n",
       "      <td>en</td>\n",
       "      <td>Waiting to Exhale</td>\n",
       "      <td>Cheated on, mistreated and stepped on, the wom...</td>\n",
       "      <td>3.859495</td>\n",
       "      <td>/16XOMpEaLWkrcPqSQqhTmeJuqQl.jpg</td>\n",
       "      <td>[{'name': 'Twentieth Century Fox Film Corporat...</td>\n",
       "      <td>[{'iso_3166_1': 'US', 'name': 'United States o...</td>\n",
       "      <td>1995-12-22</td>\n",
       "      <td>81452156.00</td>\n",
       "      <td>127.00</td>\n",
       "      <td>[{'iso_639_1': 'en', 'name': 'English'}]</td>\n",
       "      <td>Released</td>\n",
       "      <td>Friends are the people who let you be yourself...</td>\n",
       "      <td>Waiting to Exhale</td>\n",
       "      <td>False</td>\n",
       "      <td>6.10</td>\n",
       "      <td>34.00</td>\n",
       "    </tr>\n",
       "    <tr>\n",
       "      <td>4</td>\n",
       "      <td>False</td>\n",
       "      <td>{'id': 96871, 'name': 'Father of the Bride Col...</td>\n",
       "      <td>0</td>\n",
       "      <td>[{'id': 35, 'name': 'Comedy'}]</td>\n",
       "      <td>NaN</td>\n",
       "      <td>11862</td>\n",
       "      <td>tt0113041</td>\n",
       "      <td>en</td>\n",
       "      <td>Father of the Bride Part II</td>\n",
       "      <td>Just when George Banks has recovered from his ...</td>\n",
       "      <td>8.387519</td>\n",
       "      <td>/e64sOI48hQXyru7naBFyssKFxVd.jpg</td>\n",
       "      <td>[{'name': 'Sandollar Productions', 'id': 5842}...</td>\n",
       "      <td>[{'iso_3166_1': 'US', 'name': 'United States o...</td>\n",
       "      <td>1995-02-10</td>\n",
       "      <td>76578911.00</td>\n",
       "      <td>106.00</td>\n",
       "      <td>[{'iso_639_1': 'en', 'name': 'English'}]</td>\n",
       "      <td>Released</td>\n",
       "      <td>Just When His World Is Back To Normal... He's ...</td>\n",
       "      <td>Father of the Bride Part II</td>\n",
       "      <td>False</td>\n",
       "      <td>5.70</td>\n",
       "      <td>173.00</td>\n",
       "    </tr>\n",
       "  </tbody>\n",
       "</table>\n",
       "</div>"
      ],
      "text/plain": [
       "   adult                              belongs_to_collection    budget  \\\n",
       "0  False  {'id': 10194, 'name': 'Toy Story Collection', ...  30000000   \n",
       "1  False                                                NaN  65000000   \n",
       "2  False  {'id': 119050, 'name': 'Grumpy Old Men Collect...         0   \n",
       "3  False                                                NaN  16000000   \n",
       "4  False  {'id': 96871, 'name': 'Father of the Bride Col...         0   \n",
       "\n",
       "                                              genres  \\\n",
       "0  [{'id': 16, 'name': 'Animation'}, {'id': 35, '...   \n",
       "1  [{'id': 12, 'name': 'Adventure'}, {'id': 14, '...   \n",
       "2  [{'id': 10749, 'name': 'Romance'}, {'id': 35, ...   \n",
       "3  [{'id': 35, 'name': 'Comedy'}, {'id': 18, 'nam...   \n",
       "4                     [{'id': 35, 'name': 'Comedy'}]   \n",
       "\n",
       "                               homepage     id    imdb_id original_language  \\\n",
       "0  http://toystory.disney.com/toy-story    862  tt0114709                en   \n",
       "1                                   NaN   8844  tt0113497                en   \n",
       "2                                   NaN  15602  tt0113228                en   \n",
       "3                                   NaN  31357  tt0114885                en   \n",
       "4                                   NaN  11862  tt0113041                en   \n",
       "\n",
       "                original_title  \\\n",
       "0                    Toy Story   \n",
       "1                      Jumanji   \n",
       "2             Grumpier Old Men   \n",
       "3            Waiting to Exhale   \n",
       "4  Father of the Bride Part II   \n",
       "\n",
       "                                            overview popularity  \\\n",
       "0  Led by Woody, Andy's toys live happily in his ...  21.946943   \n",
       "1  When siblings Judy and Peter discover an encha...  17.015539   \n",
       "2  A family wedding reignites the ancient feud be...    11.7129   \n",
       "3  Cheated on, mistreated and stepped on, the wom...   3.859495   \n",
       "4  Just when George Banks has recovered from his ...   8.387519   \n",
       "\n",
       "                        poster_path  \\\n",
       "0  /rhIRbceoE9lR4veEXuwCC2wARtG.jpg   \n",
       "1  /vzmL6fP7aPKNKPRTFnZmiUfciyV.jpg   \n",
       "2  /6ksm1sjKMFLbO7UY2i6G1ju9SML.jpg   \n",
       "3  /16XOMpEaLWkrcPqSQqhTmeJuqQl.jpg   \n",
       "4  /e64sOI48hQXyru7naBFyssKFxVd.jpg   \n",
       "\n",
       "                                production_companies  \\\n",
       "0     [{'name': 'Pixar Animation Studios', 'id': 3}]   \n",
       "1  [{'name': 'TriStar Pictures', 'id': 559}, {'na...   \n",
       "2  [{'name': 'Warner Bros.', 'id': 6194}, {'name'...   \n",
       "3  [{'name': 'Twentieth Century Fox Film Corporat...   \n",
       "4  [{'name': 'Sandollar Productions', 'id': 5842}...   \n",
       "\n",
       "                                production_countries release_date  \\\n",
       "0  [{'iso_3166_1': 'US', 'name': 'United States o...   1995-10-30   \n",
       "1  [{'iso_3166_1': 'US', 'name': 'United States o...   1995-12-15   \n",
       "2  [{'iso_3166_1': 'US', 'name': 'United States o...   1995-12-22   \n",
       "3  [{'iso_3166_1': 'US', 'name': 'United States o...   1995-12-22   \n",
       "4  [{'iso_3166_1': 'US', 'name': 'United States o...   1995-02-10   \n",
       "\n",
       "       revenue  runtime                                   spoken_languages  \\\n",
       "0 373554033.00    81.00           [{'iso_639_1': 'en', 'name': 'English'}]   \n",
       "1 262797249.00   104.00  [{'iso_639_1': 'en', 'name': 'English'}, {'iso...   \n",
       "2         0.00   101.00           [{'iso_639_1': 'en', 'name': 'English'}]   \n",
       "3  81452156.00   127.00           [{'iso_639_1': 'en', 'name': 'English'}]   \n",
       "4  76578911.00   106.00           [{'iso_639_1': 'en', 'name': 'English'}]   \n",
       "\n",
       "     status                                            tagline  \\\n",
       "0  Released                                                NaN   \n",
       "1  Released          Roll the dice and unleash the excitement!   \n",
       "2  Released  Still Yelling. Still Fighting. Still Ready for...   \n",
       "3  Released  Friends are the people who let you be yourself...   \n",
       "4  Released  Just When His World Is Back To Normal... He's ...   \n",
       "\n",
       "                         title  video  vote_average  vote_count  \n",
       "0                    Toy Story  False          7.70     5415.00  \n",
       "1                      Jumanji  False          6.90     2413.00  \n",
       "2             Grumpier Old Men  False          6.50       92.00  \n",
       "3            Waiting to Exhale  False          6.10       34.00  \n",
       "4  Father of the Bride Part II  False          5.70      173.00  "
      ]
     },
     "execution_count": 33,
     "metadata": {},
     "output_type": "execute_result"
    }
   ],
   "source": [
    "movie.head()"
   ]
  },
  {
   "cell_type": "code",
   "execution_count": 34,
   "metadata": {},
   "outputs": [],
   "source": [
    "# Retirando os valores vazios\n",
    "movie.dropna(subset=['vote_average','vote_count'],inplace=True)"
   ]
  },
  {
   "cell_type": "code",
   "execution_count": 35,
   "metadata": {},
   "outputs": [],
   "source": [
    "# Retirando as colunas\n",
    "movie.drop(columns=['imdb_id','video','poster_path','homepage','original_title'],inplace=True)"
   ]
  },
  {
   "cell_type": "code",
   "execution_count": 36,
   "metadata": {},
   "outputs": [
    {
     "data": {
      "text/plain": [
       "3183"
      ]
     },
     "execution_count": 36,
     "metadata": {},
     "output_type": "execute_result"
    }
   ],
   "source": [
    "movie.duplicated(subset='title').sum()"
   ]
  },
  {
   "cell_type": "markdown",
   "metadata": {},
   "source": [
    "# Configurando os dados"
   ]
  },
  {
   "cell_type": "code",
   "execution_count": 37,
   "metadata": {},
   "outputs": [],
   "source": [
    "# Gerando a função que irá extrair informações das colunas com formato de string em listas\n",
    "def get_list(x, l=5):\n",
    "    if isinstance(x, list):\n",
    "        names = [i['name'] for i in x]\n",
    "        #Check if more than l elements exist. If yes, return only first three. If no, return entire list.\n",
    "        if len(names) > l:\n",
    "            names = names[:l]\n",
    "        return names\n",
    "\n",
    "    #Return empty list in case of missing/malformed data\n",
    "    return []"
   ]
  },
  {
   "cell_type": "code",
   "execution_count": 38,
   "metadata": {},
   "outputs": [],
   "source": [
    "# Gênero\n",
    "movie['genres'] = movie['genres'].apply(lambda x: literal_eval(str(x)))\n",
    "movie['genres'] = movie['genres'].apply(lambda x: get_list(x))"
   ]
  },
  {
   "cell_type": "code",
   "execution_count": 39,
   "metadata": {},
   "outputs": [],
   "source": [
    "# Companhia\n",
    "movie['production_companies'] = movie['production_companies'].apply(lambda x : literal_eval(x))\n",
    "movie['production_companies'] = movie['production_companies'].apply(lambda x : get_list(x))"
   ]
  },
  {
   "cell_type": "code",
   "execution_count": 40,
   "metadata": {},
   "outputs": [],
   "source": [
    "# País\n",
    "movie['production_countries'] = movie['production_countries'].apply(lambda x : literal_eval(x))\n",
    "movie['production_countries'] = movie['production_countries'].apply(lambda x : get_list(x))"
   ]
  },
  {
   "cell_type": "code",
   "execution_count": 41,
   "metadata": {},
   "outputs": [],
   "source": [
    "# Língua\n",
    "movie['spoken_languages'] = movie['spoken_languages'].apply(lambda x: literal_eval(x))\n",
    "movie['spoken_languages'] = movie['spoken_languages'].apply(lambda x: get_list(x))"
   ]
  },
  {
   "cell_type": "code",
   "execution_count": 42,
   "metadata": {},
   "outputs": [],
   "source": [
    "# Mudando os tipos de valores no dataset\n",
    "movie['revenue'] = pd.to_numeric(movie['revenue'],errors='coerce')\n",
    "movie['budget'] = pd.to_numeric(movie['budget'],errors='coerce')\n",
    "movie['vote_count'] = pd.to_numeric(movie['vote_count'],errors='coerce')\n",
    "movie['vote_average'] = pd.to_numeric(movie['vote_average'],errors='coerce')\n",
    "movie['popularity'] = pd.to_numeric(movie['popularity'],errors='coerce')"
   ]
  },
  {
   "cell_type": "code",
   "execution_count": 43,
   "metadata": {},
   "outputs": [],
   "source": [
    "# Acrescentando o indicador que diz a quantidade de generos por filme\n",
    "def qtd_gen(x):\n",
    "    return int(len(x))\n",
    "\n",
    "movie['len_genres'] = movie['genres'].apply(lambda x: qtd_gen(x))"
   ]
  },
  {
   "cell_type": "code",
   "execution_count": 44,
   "metadata": {},
   "outputs": [],
   "source": [
    "# Adicionando a coluna do ano que o filme foi lançado\n",
    "def ano(x):\n",
    "    return str(x).split('-')[0]\n",
    "\n",
    "# Aplicando as funções\n",
    "movie['year'] =  pd.to_datetime(movie['release_date'],errors='coerce').apply(lambda x : ano(x) if x != np.nan else np.nan)"
   ]
  },
  {
   "cell_type": "code",
   "execution_count": 45,
   "metadata": {},
   "outputs": [
    {
     "data": {
      "text/plain": [
       "(45460, 21)"
      ]
     },
     "execution_count": 45,
     "metadata": {},
     "output_type": "execute_result"
    }
   ],
   "source": [
    "movie.shape"
   ]
  },
  {
   "cell_type": "code",
   "execution_count": 46,
   "metadata": {},
   "outputs": [
    {
     "data": {
      "text/html": [
       "<div>\n",
       "<style scoped>\n",
       "    .dataframe tbody tr th:only-of-type {\n",
       "        vertical-align: middle;\n",
       "    }\n",
       "\n",
       "    .dataframe tbody tr th {\n",
       "        vertical-align: top;\n",
       "    }\n",
       "\n",
       "    .dataframe thead th {\n",
       "        text-align: right;\n",
       "    }\n",
       "</style>\n",
       "<table border=\"1\" class=\"dataframe\">\n",
       "  <thead>\n",
       "    <tr style=\"text-align: right;\">\n",
       "      <th></th>\n",
       "      <th>adult</th>\n",
       "      <th>belongs_to_collection</th>\n",
       "      <th>budget</th>\n",
       "      <th>genres</th>\n",
       "      <th>id</th>\n",
       "      <th>original_language</th>\n",
       "      <th>overview</th>\n",
       "      <th>popularity</th>\n",
       "      <th>production_companies</th>\n",
       "      <th>production_countries</th>\n",
       "      <th>release_date</th>\n",
       "      <th>revenue</th>\n",
       "      <th>runtime</th>\n",
       "      <th>spoken_languages</th>\n",
       "      <th>status</th>\n",
       "      <th>tagline</th>\n",
       "      <th>title</th>\n",
       "      <th>vote_average</th>\n",
       "      <th>vote_count</th>\n",
       "      <th>len_genres</th>\n",
       "      <th>year</th>\n",
       "    </tr>\n",
       "  </thead>\n",
       "  <tbody>\n",
       "    <tr>\n",
       "      <td>0</td>\n",
       "      <td>False</td>\n",
       "      <td>{'id': 10194, 'name': 'Toy Story Collection', ...</td>\n",
       "      <td>30000000</td>\n",
       "      <td>[Animation, Comedy, Family]</td>\n",
       "      <td>862</td>\n",
       "      <td>en</td>\n",
       "      <td>Led by Woody, Andy's toys live happily in his ...</td>\n",
       "      <td>21.95</td>\n",
       "      <td>[Pixar Animation Studios]</td>\n",
       "      <td>[United States of America]</td>\n",
       "      <td>1995-10-30</td>\n",
       "      <td>373554033.00</td>\n",
       "      <td>81.00</td>\n",
       "      <td>[English]</td>\n",
       "      <td>Released</td>\n",
       "      <td>NaN</td>\n",
       "      <td>Toy Story</td>\n",
       "      <td>7.70</td>\n",
       "      <td>5415.00</td>\n",
       "      <td>3</td>\n",
       "      <td>1995</td>\n",
       "    </tr>\n",
       "    <tr>\n",
       "      <td>1</td>\n",
       "      <td>False</td>\n",
       "      <td>NaN</td>\n",
       "      <td>65000000</td>\n",
       "      <td>[Adventure, Fantasy, Family]</td>\n",
       "      <td>8844</td>\n",
       "      <td>en</td>\n",
       "      <td>When siblings Judy and Peter discover an encha...</td>\n",
       "      <td>17.02</td>\n",
       "      <td>[TriStar Pictures, Teitler Film, Interscope Co...</td>\n",
       "      <td>[United States of America]</td>\n",
       "      <td>1995-12-15</td>\n",
       "      <td>262797249.00</td>\n",
       "      <td>104.00</td>\n",
       "      <td>[English, Français]</td>\n",
       "      <td>Released</td>\n",
       "      <td>Roll the dice and unleash the excitement!</td>\n",
       "      <td>Jumanji</td>\n",
       "      <td>6.90</td>\n",
       "      <td>2413.00</td>\n",
       "      <td>3</td>\n",
       "      <td>1995</td>\n",
       "    </tr>\n",
       "    <tr>\n",
       "      <td>2</td>\n",
       "      <td>False</td>\n",
       "      <td>{'id': 119050, 'name': 'Grumpy Old Men Collect...</td>\n",
       "      <td>0</td>\n",
       "      <td>[Romance, Comedy]</td>\n",
       "      <td>15602</td>\n",
       "      <td>en</td>\n",
       "      <td>A family wedding reignites the ancient feud be...</td>\n",
       "      <td>11.71</td>\n",
       "      <td>[Warner Bros., Lancaster Gate]</td>\n",
       "      <td>[United States of America]</td>\n",
       "      <td>1995-12-22</td>\n",
       "      <td>0.00</td>\n",
       "      <td>101.00</td>\n",
       "      <td>[English]</td>\n",
       "      <td>Released</td>\n",
       "      <td>Still Yelling. Still Fighting. Still Ready for...</td>\n",
       "      <td>Grumpier Old Men</td>\n",
       "      <td>6.50</td>\n",
       "      <td>92.00</td>\n",
       "      <td>2</td>\n",
       "      <td>1995</td>\n",
       "    </tr>\n",
       "    <tr>\n",
       "      <td>3</td>\n",
       "      <td>False</td>\n",
       "      <td>NaN</td>\n",
       "      <td>16000000</td>\n",
       "      <td>[Comedy, Drama, Romance]</td>\n",
       "      <td>31357</td>\n",
       "      <td>en</td>\n",
       "      <td>Cheated on, mistreated and stepped on, the wom...</td>\n",
       "      <td>3.86</td>\n",
       "      <td>[Twentieth Century Fox Film Corporation]</td>\n",
       "      <td>[United States of America]</td>\n",
       "      <td>1995-12-22</td>\n",
       "      <td>81452156.00</td>\n",
       "      <td>127.00</td>\n",
       "      <td>[English]</td>\n",
       "      <td>Released</td>\n",
       "      <td>Friends are the people who let you be yourself...</td>\n",
       "      <td>Waiting to Exhale</td>\n",
       "      <td>6.10</td>\n",
       "      <td>34.00</td>\n",
       "      <td>3</td>\n",
       "      <td>1995</td>\n",
       "    </tr>\n",
       "    <tr>\n",
       "      <td>4</td>\n",
       "      <td>False</td>\n",
       "      <td>{'id': 96871, 'name': 'Father of the Bride Col...</td>\n",
       "      <td>0</td>\n",
       "      <td>[Comedy]</td>\n",
       "      <td>11862</td>\n",
       "      <td>en</td>\n",
       "      <td>Just when George Banks has recovered from his ...</td>\n",
       "      <td>8.39</td>\n",
       "      <td>[Sandollar Productions, Touchstone Pictures]</td>\n",
       "      <td>[United States of America]</td>\n",
       "      <td>1995-02-10</td>\n",
       "      <td>76578911.00</td>\n",
       "      <td>106.00</td>\n",
       "      <td>[English]</td>\n",
       "      <td>Released</td>\n",
       "      <td>Just When His World Is Back To Normal... He's ...</td>\n",
       "      <td>Father of the Bride Part II</td>\n",
       "      <td>5.70</td>\n",
       "      <td>173.00</td>\n",
       "      <td>1</td>\n",
       "      <td>1995</td>\n",
       "    </tr>\n",
       "  </tbody>\n",
       "</table>\n",
       "</div>"
      ],
      "text/plain": [
       "   adult                              belongs_to_collection    budget  \\\n",
       "0  False  {'id': 10194, 'name': 'Toy Story Collection', ...  30000000   \n",
       "1  False                                                NaN  65000000   \n",
       "2  False  {'id': 119050, 'name': 'Grumpy Old Men Collect...         0   \n",
       "3  False                                                NaN  16000000   \n",
       "4  False  {'id': 96871, 'name': 'Father of the Bride Col...         0   \n",
       "\n",
       "                         genres     id original_language  \\\n",
       "0   [Animation, Comedy, Family]    862                en   \n",
       "1  [Adventure, Fantasy, Family]   8844                en   \n",
       "2             [Romance, Comedy]  15602                en   \n",
       "3      [Comedy, Drama, Romance]  31357                en   \n",
       "4                      [Comedy]  11862                en   \n",
       "\n",
       "                                            overview  popularity  \\\n",
       "0  Led by Woody, Andy's toys live happily in his ...       21.95   \n",
       "1  When siblings Judy and Peter discover an encha...       17.02   \n",
       "2  A family wedding reignites the ancient feud be...       11.71   \n",
       "3  Cheated on, mistreated and stepped on, the wom...        3.86   \n",
       "4  Just when George Banks has recovered from his ...        8.39   \n",
       "\n",
       "                                production_companies  \\\n",
       "0                          [Pixar Animation Studios]   \n",
       "1  [TriStar Pictures, Teitler Film, Interscope Co...   \n",
       "2                     [Warner Bros., Lancaster Gate]   \n",
       "3           [Twentieth Century Fox Film Corporation]   \n",
       "4       [Sandollar Productions, Touchstone Pictures]   \n",
       "\n",
       "         production_countries release_date      revenue  runtime  \\\n",
       "0  [United States of America]   1995-10-30 373554033.00    81.00   \n",
       "1  [United States of America]   1995-12-15 262797249.00   104.00   \n",
       "2  [United States of America]   1995-12-22         0.00   101.00   \n",
       "3  [United States of America]   1995-12-22  81452156.00   127.00   \n",
       "4  [United States of America]   1995-02-10  76578911.00   106.00   \n",
       "\n",
       "      spoken_languages    status  \\\n",
       "0            [English]  Released   \n",
       "1  [English, Français]  Released   \n",
       "2            [English]  Released   \n",
       "3            [English]  Released   \n",
       "4            [English]  Released   \n",
       "\n",
       "                                             tagline  \\\n",
       "0                                                NaN   \n",
       "1          Roll the dice and unleash the excitement!   \n",
       "2  Still Yelling. Still Fighting. Still Ready for...   \n",
       "3  Friends are the people who let you be yourself...   \n",
       "4  Just When His World Is Back To Normal... He's ...   \n",
       "\n",
       "                         title  vote_average  vote_count  len_genres  year  \n",
       "0                    Toy Story          7.70     5415.00           3  1995  \n",
       "1                      Jumanji          6.90     2413.00           3  1995  \n",
       "2             Grumpier Old Men          6.50       92.00           2  1995  \n",
       "3            Waiting to Exhale          6.10       34.00           3  1995  \n",
       "4  Father of the Bride Part II          5.70      173.00           1  1995  "
      ]
     },
     "execution_count": 46,
     "metadata": {},
     "output_type": "execute_result"
    }
   ],
   "source": [
    "movie.head()"
   ]
  },
  {
   "cell_type": "markdown",
   "metadata": {},
   "source": [
    "# Task 1: Quais são o TOP 10 filmes que apresentam maiores popularidades?"
   ]
  },
  {
   "cell_type": "code",
   "execution_count": 47,
   "metadata": {},
   "outputs": [],
   "source": [
    "# Extraindo o top 10 \n",
    "top_10_popularidade = movie.groupby('title')['popularity'].sum().sort_values(ascending=False).head(10)\n",
    "top_10_popularidade = top_10_popularidade.to_frame()\n",
    "top_10_popularidade.reset_index(inplace=True)"
   ]
  },
  {
   "cell_type": "code",
   "execution_count": 48,
   "metadata": {},
   "outputs": [],
   "source": [
    "# sorteando o dataframe para obter a visualização no gráfico\n",
    "top_10_popularidade = top_10_popularidade.sort_values(by=['popularity'],ascending=True)"
   ]
  },
  {
   "cell_type": "code",
   "execution_count": 86,
   "metadata": {},
   "outputs": [
    {
     "data": {
      "image/png": "[encoded data removed]",
      "text/plain": [
       "<Figure size 720x360 with 1 Axes>"
      ]
     },
     "metadata": {
      "needs_background": "light"
     },
     "output_type": "display_data"
    }
   ],
   "source": [
    "plt.figure(figsize=(10,5))\n",
    "plt.barh(top_10_popularidade['title'],top_10_popularidade['popularity'],color='r')\n",
    "plt.ylabel('filmes')\n",
    "plt.xlabel('popularidade')\n",
    "plt.title('TOP 10 filmes com maior popularidade',size=15,loc='center')\n",
    "plt.grid(True)\n",
    "plt.show()"
   ]
  },
  {
   "cell_type": "markdown",
   "metadata": {},
   "source": [
    "# Task 2: Quais são os TOP 5 dos anos que obtiveram as maiores receitas ?"
   ]
  },
  {
   "cell_type": "code",
   "execution_count": 50,
   "metadata": {},
   "outputs": [],
   "source": [
    "top5_receita = movie.groupby('year')['revenue'].sum().sort_values(ascending=False).head(5)\n",
    "top5_receita = top5_receita.to_frame()\n",
    "top5_receita.reset_index(inplace=True)"
   ]
  },
  {
   "cell_type": "code",
   "execution_count": 51,
   "metadata": {},
   "outputs": [],
   "source": [
    "top5_receita = top5_receita.sort_values(by=['year'],ascending=True)"
   ]
  },
  {
   "cell_type": "code",
   "execution_count": 87,
   "metadata": {},
   "outputs": [
    {
     "data": {
      "image/png": "[encoded data removed]",
      "text/plain": [
       "<Figure size 432x288 with 1 Axes>"
      ]
     },
     "metadata": {
      "needs_background": "light"
     },
     "output_type": "display_data"
    }
   ],
   "source": [
    "plt.plot(top5_receita['year'],top5_receita['revenue'],'g--')\n",
    "plt.xlabel('Anos')\n",
    "plt.ylabel('Receita')\n",
    "plt.title('TOP 5 dos anos com maior receita',size=15,loc='center')\n",
    "plt.show()"
   ]
  },
  {
   "cell_type": "markdown",
   "metadata": {},
   "source": [
    "# Task 3 : Qual a correlação da popularidade dos filmes de 2016 e suas receitas?"
   ]
  },
  {
   "cell_type": "code",
   "execution_count": 53,
   "metadata": {},
   "outputs": [],
   "source": [
    "# Filtrando os filmes que foram feitos em 2016\n",
    "movie_2016 = movie.loc[movie['year'] == '2016']"
   ]
  },
  {
   "cell_type": "code",
   "execution_count": 54,
   "metadata": {},
   "outputs": [
    {
     "data": {
      "text/html": [
       "<div>\n",
       "<style scoped>\n",
       "    .dataframe tbody tr th:only-of-type {\n",
       "        vertical-align: middle;\n",
       "    }\n",
       "\n",
       "    .dataframe tbody tr th {\n",
       "        vertical-align: top;\n",
       "    }\n",
       "\n",
       "    .dataframe thead th {\n",
       "        text-align: right;\n",
       "    }\n",
       "</style>\n",
       "<table border=\"1\" class=\"dataframe\">\n",
       "  <thead>\n",
       "    <tr style=\"text-align: right;\">\n",
       "      <th></th>\n",
       "      <th>budget</th>\n",
       "      <th>popularity</th>\n",
       "      <th>revenue</th>\n",
       "      <th>runtime</th>\n",
       "      <th>vote_average</th>\n",
       "      <th>vote_count</th>\n",
       "      <th>len_genres</th>\n",
       "    </tr>\n",
       "  </thead>\n",
       "  <tbody>\n",
       "    <tr>\n",
       "      <td>count</td>\n",
       "      <td>1604.00</td>\n",
       "      <td>1604.00</td>\n",
       "      <td>1604.00</td>\n",
       "      <td>1595.00</td>\n",
       "      <td>1604.00</td>\n",
       "      <td>1604.00</td>\n",
       "      <td>1604.00</td>\n",
       "    </tr>\n",
       "    <tr>\n",
       "      <td>mean</td>\n",
       "      <td>6490771.27</td>\n",
       "      <td>4.15</td>\n",
       "      <td>19013638.72</td>\n",
       "      <td>93.67</td>\n",
       "      <td>5.82</td>\n",
       "      <td>192.60</td>\n",
       "      <td>1.85</td>\n",
       "    </tr>\n",
       "    <tr>\n",
       "      <td>std</td>\n",
       "      <td>24426168.57</td>\n",
       "      <td>8.27</td>\n",
       "      <td>94036510.24</td>\n",
       "      <td>34.43</td>\n",
       "      <td>1.99</td>\n",
       "      <td>704.91</td>\n",
       "      <td>0.99</td>\n",
       "    </tr>\n",
       "    <tr>\n",
       "      <td>min</td>\n",
       "      <td>0.00</td>\n",
       "      <td>0.03</td>\n",
       "      <td>0.00</td>\n",
       "      <td>0.00</td>\n",
       "      <td>0.00</td>\n",
       "      <td>0.00</td>\n",
       "      <td>0.00</td>\n",
       "    </tr>\n",
       "    <tr>\n",
       "      <td>25%</td>\n",
       "      <td>0.00</td>\n",
       "      <td>0.57</td>\n",
       "      <td>0.00</td>\n",
       "      <td>85.00</td>\n",
       "      <td>5.20</td>\n",
       "      <td>4.00</td>\n",
       "      <td>1.00</td>\n",
       "    </tr>\n",
       "    <tr>\n",
       "      <td>50%</td>\n",
       "      <td>0.00</td>\n",
       "      <td>1.65</td>\n",
       "      <td>0.00</td>\n",
       "      <td>94.00</td>\n",
       "      <td>6.10</td>\n",
       "      <td>15.00</td>\n",
       "      <td>2.00</td>\n",
       "    </tr>\n",
       "    <tr>\n",
       "      <td>75%</td>\n",
       "      <td>0.00</td>\n",
       "      <td>5.23</td>\n",
       "      <td>0.00</td>\n",
       "      <td>107.00</td>\n",
       "      <td>7.00</td>\n",
       "      <td>59.00</td>\n",
       "      <td>3.00</td>\n",
       "    </tr>\n",
       "    <tr>\n",
       "      <td>max</td>\n",
       "      <td>250000000.00</td>\n",
       "      <td>187.86</td>\n",
       "      <td>1153304495.00</td>\n",
       "      <td>463.00</td>\n",
       "      <td>10.00</td>\n",
       "      <td>11444.00</td>\n",
       "      <td>5.00</td>\n",
       "    </tr>\n",
       "  </tbody>\n",
       "</table>\n",
       "</div>"
      ],
      "text/plain": [
       "            budget  popularity       revenue  runtime  vote_average  \\\n",
       "count      1604.00     1604.00       1604.00  1595.00       1604.00   \n",
       "mean    6490771.27        4.15   19013638.72    93.67          5.82   \n",
       "std    24426168.57        8.27   94036510.24    34.43          1.99   \n",
       "min           0.00        0.03          0.00     0.00          0.00   \n",
       "25%           0.00        0.57          0.00    85.00          5.20   \n",
       "50%           0.00        1.65          0.00    94.00          6.10   \n",
       "75%           0.00        5.23          0.00   107.00          7.00   \n",
       "max   250000000.00      187.86 1153304495.00   463.00         10.00   \n",
       "\n",
       "       vote_count  len_genres  \n",
       "count     1604.00     1604.00  \n",
       "mean       192.60        1.85  \n",
       "std        704.91        0.99  \n",
       "min          0.00        0.00  \n",
       "25%          4.00        1.00  \n",
       "50%         15.00        2.00  \n",
       "75%         59.00        3.00  \n",
       "max      11444.00        5.00  "
      ]
     },
     "execution_count": 54,
     "metadata": {},
     "output_type": "execute_result"
    }
   ],
   "source": [
    "movie_2016.describe()"
   ]
  },
  {
   "cell_type": "code",
   "execution_count": 55,
   "metadata": {},
   "outputs": [
    {
     "data": {
      "image/png": "[encoded data removed]",
      "text/plain": [
       "<Figure size 432x288 with 1 Axes>"
      ]
     },
     "metadata": {
      "needs_background": "light"
     },
     "output_type": "display_data"
    }
   ],
   "source": [
    "# visualização da frequencia em relação a popularidade\n",
    "plt.hist(movie_2016['popularity'],color='b')\n",
    "plt.show()"
   ]
  },
  {
   "cell_type": "code",
   "execution_count": 56,
   "metadata": {},
   "outputs": [
    {
     "data": {
      "image/png": "[encoded data removed]",
      "text/plain": [
       "<Figure size 432x288 with 1 Axes>"
      ]
     },
     "metadata": {
      "needs_background": "light"
     },
     "output_type": "display_data"
    }
   ],
   "source": [
    "# visualização da frequencia em relação a receita\n",
    "plt.hist(movie_2016['revenue'],color='r')\n",
    "plt.show()"
   ]
  },
  {
   "cell_type": "code",
   "execution_count": 57,
   "metadata": {},
   "outputs": [
    {
     "data": {
      "image/png": "[encoded data removed]",
      "text/plain": [
       "<Figure size 432x288 with 1 Axes>"
      ]
     },
     "metadata": {
      "needs_background": "light"
     },
     "output_type": "display_data"
    }
   ],
   "source": [
    "# Observando a correlação da popularidade com a receita \n",
    "plt.scatter(movie_2016['popularity'],movie_2016['revenue'],color='g')\n",
    "plt.show()"
   ]
  },
  {
   "cell_type": "code",
   "execution_count": 58,
   "metadata": {},
   "outputs": [
    {
     "data": {
      "text/html": [
       "<div>\n",
       "<style scoped>\n",
       "    .dataframe tbody tr th:only-of-type {\n",
       "        vertical-align: middle;\n",
       "    }\n",
       "\n",
       "    .dataframe tbody tr th {\n",
       "        vertical-align: top;\n",
       "    }\n",
       "\n",
       "    .dataframe thead th {\n",
       "        text-align: right;\n",
       "    }\n",
       "</style>\n",
       "<table border=\"1\" class=\"dataframe\">\n",
       "  <thead>\n",
       "    <tr style=\"text-align: right;\">\n",
       "      <th></th>\n",
       "      <th>adult</th>\n",
       "      <th>belongs_to_collection</th>\n",
       "      <th>budget</th>\n",
       "      <th>genres</th>\n",
       "      <th>id</th>\n",
       "      <th>original_language</th>\n",
       "      <th>overview</th>\n",
       "      <th>popularity</th>\n",
       "      <th>production_companies</th>\n",
       "      <th>production_countries</th>\n",
       "      <th>release_date</th>\n",
       "      <th>revenue</th>\n",
       "      <th>runtime</th>\n",
       "      <th>spoken_languages</th>\n",
       "      <th>status</th>\n",
       "      <th>tagline</th>\n",
       "      <th>title</th>\n",
       "      <th>vote_average</th>\n",
       "      <th>vote_count</th>\n",
       "      <th>len_genres</th>\n",
       "      <th>year</th>\n",
       "    </tr>\n",
       "  </thead>\n",
       "  <tbody>\n",
       "    <tr>\n",
       "      <td>26564</td>\n",
       "      <td>False</td>\n",
       "      <td>{'id': 448150, 'name': 'Deadpool Collection', ...</td>\n",
       "      <td>58000000</td>\n",
       "      <td>[Action, Adventure, Comedy]</td>\n",
       "      <td>293660</td>\n",
       "      <td>en</td>\n",
       "      <td>Deadpool tells the origin story of former Spec...</td>\n",
       "      <td>187.86</td>\n",
       "      <td>[Twentieth Century Fox Film Corporation, Marve...</td>\n",
       "      <td>[United States of America]</td>\n",
       "      <td>2016-02-09</td>\n",
       "      <td>783112979.00</td>\n",
       "      <td>108.00</td>\n",
       "      <td>[English]</td>\n",
       "      <td>Released</td>\n",
       "      <td>Witness the beginning of a happy ending</td>\n",
       "      <td>Deadpool</td>\n",
       "      <td>7.40</td>\n",
       "      <td>11444.00</td>\n",
       "      <td>3</td>\n",
       "      <td>2016</td>\n",
       "    </tr>\n",
       "    <tr>\n",
       "      <td>26567</td>\n",
       "      <td>False</td>\n",
       "      <td>{'id': 131295, 'name': 'Captain America Collec...</td>\n",
       "      <td>250000000</td>\n",
       "      <td>[Adventure, Action, Science Fiction]</td>\n",
       "      <td>271110</td>\n",
       "      <td>en</td>\n",
       "      <td>Following the events of Age of Ultron, the col...</td>\n",
       "      <td>145.88</td>\n",
       "      <td>[Studio Babelsberg, Marvel Studios, Walt Disne...</td>\n",
       "      <td>[United States of America]</td>\n",
       "      <td>2016-04-27</td>\n",
       "      <td>1153304495.00</td>\n",
       "      <td>147.00</td>\n",
       "      <td>[Română, English, Deutsch, Pусский]</td>\n",
       "      <td>Released</td>\n",
       "      <td>Divided We Fall</td>\n",
       "      <td>Captain America: Civil War</td>\n",
       "      <td>7.10</td>\n",
       "      <td>7462.00</td>\n",
       "      <td>3</td>\n",
       "      <td>2016</td>\n",
       "    </tr>\n",
       "  </tbody>\n",
       "</table>\n",
       "</div>"
      ],
      "text/plain": [
       "       adult                              belongs_to_collection     budget  \\\n",
       "26564  False  {'id': 448150, 'name': 'Deadpool Collection', ...   58000000   \n",
       "26567  False  {'id': 131295, 'name': 'Captain America Collec...  250000000   \n",
       "\n",
       "                                     genres      id original_language  \\\n",
       "26564           [Action, Adventure, Comedy]  293660                en   \n",
       "26567  [Adventure, Action, Science Fiction]  271110                en   \n",
       "\n",
       "                                                overview  popularity  \\\n",
       "26564  Deadpool tells the origin story of former Spec...      187.86   \n",
       "26567  Following the events of Age of Ultron, the col...      145.88   \n",
       "\n",
       "                                    production_companies  \\\n",
       "26564  [Twentieth Century Fox Film Corporation, Marve...   \n",
       "26567  [Studio Babelsberg, Marvel Studios, Walt Disne...   \n",
       "\n",
       "             production_countries release_date       revenue  runtime  \\\n",
       "26564  [United States of America]   2016-02-09  783112979.00   108.00   \n",
       "26567  [United States of America]   2016-04-27 1153304495.00   147.00   \n",
       "\n",
       "                          spoken_languages    status  \\\n",
       "26564                            [English]  Released   \n",
       "26567  [Română, English, Deutsch, Pусский]  Released   \n",
       "\n",
       "                                       tagline                       title  \\\n",
       "26564  Witness the beginning of a happy ending                    Deadpool   \n",
       "26567                          Divided We Fall  Captain America: Civil War   \n",
       "\n",
       "       vote_average  vote_count  len_genres  year  \n",
       "26564          7.40    11444.00           3  2016  \n",
       "26567          7.10     7462.00           3  2016  "
      ]
     },
     "execution_count": 58,
     "metadata": {},
     "output_type": "execute_result"
    }
   ],
   "source": [
    "movie_2016.loc[movie_2016['popularity'] > 125]"
   ]
  },
  {
   "cell_type": "code",
   "execution_count": 59,
   "metadata": {},
   "outputs": [
    {
     "data": {
      "text/html": [
       "<div>\n",
       "<style scoped>\n",
       "    .dataframe tbody tr th:only-of-type {\n",
       "        vertical-align: middle;\n",
       "    }\n",
       "\n",
       "    .dataframe tbody tr th {\n",
       "        vertical-align: top;\n",
       "    }\n",
       "\n",
       "    .dataframe thead th {\n",
       "        text-align: right;\n",
       "    }\n",
       "</style>\n",
       "<table border=\"1\" class=\"dataframe\">\n",
       "  <thead>\n",
       "    <tr style=\"text-align: right;\">\n",
       "      <th></th>\n",
       "      <th>title</th>\n",
       "      <th>popularity</th>\n",
       "      <th>revenue</th>\n",
       "    </tr>\n",
       "  </thead>\n",
       "  <tbody>\n",
       "    <tr>\n",
       "      <td>0</td>\n",
       "      <td>Captain America: Civil War</td>\n",
       "      <td>145.88</td>\n",
       "      <td>1153304495.00</td>\n",
       "    </tr>\n",
       "    <tr>\n",
       "      <td>1</td>\n",
       "      <td>Rogue One: A Star Wars Story</td>\n",
       "      <td>36.57</td>\n",
       "      <td>1056057273.00</td>\n",
       "    </tr>\n",
       "    <tr>\n",
       "      <td>2</td>\n",
       "      <td>Finding Dory</td>\n",
       "      <td>14.48</td>\n",
       "      <td>1028570889.00</td>\n",
       "    </tr>\n",
       "    <tr>\n",
       "      <td>3</td>\n",
       "      <td>Zootopia</td>\n",
       "      <td>26.02</td>\n",
       "      <td>1023784195.00</td>\n",
       "    </tr>\n",
       "    <tr>\n",
       "      <td>4</td>\n",
       "      <td>The Jungle Book</td>\n",
       "      <td>17.43</td>\n",
       "      <td>966550600.00</td>\n",
       "    </tr>\n",
       "    <tr>\n",
       "      <td>5</td>\n",
       "      <td>The Secret Life of Pets</td>\n",
       "      <td>11.01</td>\n",
       "      <td>875457937.00</td>\n",
       "    </tr>\n",
       "    <tr>\n",
       "      <td>6</td>\n",
       "      <td>Batman v Superman: Dawn of Justice</td>\n",
       "      <td>31.44</td>\n",
       "      <td>873260194.00</td>\n",
       "    </tr>\n",
       "    <tr>\n",
       "      <td>7</td>\n",
       "      <td>Fantastic Beasts and Where to Find Them</td>\n",
       "      <td>41.05</td>\n",
       "      <td>809342332.00</td>\n",
       "    </tr>\n",
       "    <tr>\n",
       "      <td>8</td>\n",
       "      <td>Deadpool</td>\n",
       "      <td>187.86</td>\n",
       "      <td>783112979.00</td>\n",
       "    </tr>\n",
       "    <tr>\n",
       "      <td>9</td>\n",
       "      <td>Suicide Squad</td>\n",
       "      <td>42.97</td>\n",
       "      <td>745600054.00</td>\n",
       "    </tr>\n",
       "  </tbody>\n",
       "</table>\n",
       "</div>"
      ],
      "text/plain": [
       "                                     title  popularity       revenue\n",
       "0               Captain America: Civil War      145.88 1153304495.00\n",
       "1             Rogue One: A Star Wars Story       36.57 1056057273.00\n",
       "2                             Finding Dory       14.48 1028570889.00\n",
       "3                                 Zootopia       26.02 1023784195.00\n",
       "4                          The Jungle Book       17.43  966550600.00\n",
       "5                  The Secret Life of Pets       11.01  875457937.00\n",
       "6       Batman v Superman: Dawn of Justice       31.44  873260194.00\n",
       "7  Fantastic Beasts and Where to Find Them       41.05  809342332.00\n",
       "8                                 Deadpool      187.86  783112979.00\n",
       "9                            Suicide Squad       42.97  745600054.00"
      ]
     },
     "execution_count": 59,
     "metadata": {},
     "output_type": "execute_result"
    }
   ],
   "source": [
    "# Agrupando os dados dos filmes por receita e popularidade\n",
    "top10_movies_2016 = movie_2016.groupby('title')['popularity','revenue'].sum().sort_values(by=['revenue'],ascending=False).head(10)\n",
    "top10_movies_2016.reset_index(inplace=True)\n",
    "top10_movies_2016"
   ]
  },
  {
   "cell_type": "code",
   "execution_count": 60,
   "metadata": {},
   "outputs": [
    {
     "data": {
      "image/png": "[encoded data removed]",
      "text/plain": [
       "<Figure size 432x288 with 2 Axes>"
      ]
     },
     "metadata": {
      "needs_background": "light"
     },
     "output_type": "display_data"
    }
   ],
   "source": [
    "# Gráfico dos filmes \n",
    "fig, ax1 = plt.subplots(1,1)\n",
    "\n",
    "filmes = [film for film in top10_movies_2016['title'].values]\n",
    "\n",
    "ax2 = ax1.twinx()\n",
    "ax1.bar(filmes,top10_movies_2016['popularity'],color='navy')\n",
    "ax2.plot(filmes,top10_movies_2016['revenue'],'r--')\n",
    "ax1.set_xticklabels(filmes,rotation='vertical',size=10)\n",
    "plt.title('Popularidade x Receita de filmes em 2016')\n",
    "ax1.set_xlabel('filmes')\n",
    "ax1.set_ylabel('popularidade', color='blue')\n",
    "ax2.set_ylabel('receita', color='red')\n",
    "\n",
    "plt.show()"
   ]
  },
  {
   "cell_type": "markdown",
   "metadata": {},
   "source": [
    "# Task 4: Quais são os TOP 10 filmes que obtiveram os maiores custos ? E, quais são suas relações de lucro ?"
   ]
  },
  {
   "cell_type": "code",
   "execution_count": 61,
   "metadata": {},
   "outputs": [],
   "source": [
    "Top10_custos = movie.drop_duplicates(subset=['title'],keep=\"last\")\n",
    "Top10_custos = Top10_custos.groupby('title')['budget','revenue'].sum().sort_values(by=['budget'],ascending=False).head(10)\n",
    "Top10_custos.reset_index(inplace=True)"
   ]
  },
  {
   "cell_type": "code",
   "execution_count": 62,
   "metadata": {},
   "outputs": [],
   "source": [
    "Top10_custos['Lucro'] = Top10_custos['revenue'] - Top10_custos['budget']"
   ]
  },
  {
   "cell_type": "code",
   "execution_count": 63,
   "metadata": {},
   "outputs": [
    {
     "data": {
      "text/html": [
       "<div>\n",
       "<style scoped>\n",
       "    .dataframe tbody tr th:only-of-type {\n",
       "        vertical-align: middle;\n",
       "    }\n",
       "\n",
       "    .dataframe tbody tr th {\n",
       "        vertical-align: top;\n",
       "    }\n",
       "\n",
       "    .dataframe thead th {\n",
       "        text-align: right;\n",
       "    }\n",
       "</style>\n",
       "<table border=\"1\" class=\"dataframe\">\n",
       "  <thead>\n",
       "    <tr style=\"text-align: right;\">\n",
       "      <th></th>\n",
       "      <th>title</th>\n",
       "      <th>budget</th>\n",
       "      <th>revenue</th>\n",
       "      <th>Lucro</th>\n",
       "    </tr>\n",
       "  </thead>\n",
       "  <tbody>\n",
       "    <tr>\n",
       "      <td>0</td>\n",
       "      <td>Pirates of the Caribbean: On Stranger Tides</td>\n",
       "      <td>380000000</td>\n",
       "      <td>1045713802.00</td>\n",
       "      <td>665713802.00</td>\n",
       "    </tr>\n",
       "    <tr>\n",
       "      <td>1</td>\n",
       "      <td>Pirates of the Caribbean: At World's End</td>\n",
       "      <td>300000000</td>\n",
       "      <td>961000000.00</td>\n",
       "      <td>661000000.00</td>\n",
       "    </tr>\n",
       "    <tr>\n",
       "      <td>2</td>\n",
       "      <td>Avengers: Age of Ultron</td>\n",
       "      <td>280000000</td>\n",
       "      <td>1405403694.00</td>\n",
       "      <td>1125403694.00</td>\n",
       "    </tr>\n",
       "    <tr>\n",
       "      <td>3</td>\n",
       "      <td>Superman Returns</td>\n",
       "      <td>270000000</td>\n",
       "      <td>391081192.00</td>\n",
       "      <td>121081192.00</td>\n",
       "    </tr>\n",
       "    <tr>\n",
       "      <td>4</td>\n",
       "      <td>Transformers: The Last Knight</td>\n",
       "      <td>260000000</td>\n",
       "      <td>604942143.00</td>\n",
       "      <td>344942143.00</td>\n",
       "    </tr>\n",
       "    <tr>\n",
       "      <td>5</td>\n",
       "      <td>John Carter</td>\n",
       "      <td>260000000</td>\n",
       "      <td>284139100.00</td>\n",
       "      <td>24139100.00</td>\n",
       "    </tr>\n",
       "    <tr>\n",
       "      <td>6</td>\n",
       "      <td>Spider-Man 3</td>\n",
       "      <td>258000000</td>\n",
       "      <td>890871626.00</td>\n",
       "      <td>632871626.00</td>\n",
       "    </tr>\n",
       "    <tr>\n",
       "      <td>7</td>\n",
       "      <td>The Hobbit: The Desolation of Smaug</td>\n",
       "      <td>250000000</td>\n",
       "      <td>958400000.00</td>\n",
       "      <td>708400000.00</td>\n",
       "    </tr>\n",
       "    <tr>\n",
       "      <td>8</td>\n",
       "      <td>Captain America: Civil War</td>\n",
       "      <td>250000000</td>\n",
       "      <td>1153304495.00</td>\n",
       "      <td>903304495.00</td>\n",
       "    </tr>\n",
       "    <tr>\n",
       "      <td>9</td>\n",
       "      <td>Harry Potter and the Half-Blood Prince</td>\n",
       "      <td>250000000</td>\n",
       "      <td>933959197.00</td>\n",
       "      <td>683959197.00</td>\n",
       "    </tr>\n",
       "  </tbody>\n",
       "</table>\n",
       "</div>"
      ],
      "text/plain": [
       "                                         title     budget       revenue  \\\n",
       "0  Pirates of the Caribbean: On Stranger Tides  380000000 1045713802.00   \n",
       "1     Pirates of the Caribbean: At World's End  300000000  961000000.00   \n",
       "2                      Avengers: Age of Ultron  280000000 1405403694.00   \n",
       "3                             Superman Returns  270000000  391081192.00   \n",
       "4                Transformers: The Last Knight  260000000  604942143.00   \n",
       "5                                  John Carter  260000000  284139100.00   \n",
       "6                                 Spider-Man 3  258000000  890871626.00   \n",
       "7          The Hobbit: The Desolation of Smaug  250000000  958400000.00   \n",
       "8                   Captain America: Civil War  250000000 1153304495.00   \n",
       "9       Harry Potter and the Half-Blood Prince  250000000  933959197.00   \n",
       "\n",
       "          Lucro  \n",
       "0  665713802.00  \n",
       "1  661000000.00  \n",
       "2 1125403694.00  \n",
       "3  121081192.00  \n",
       "4  344942143.00  \n",
       "5   24139100.00  \n",
       "6  632871626.00  \n",
       "7  708400000.00  \n",
       "8  903304495.00  \n",
       "9  683959197.00  "
      ]
     },
     "execution_count": 63,
     "metadata": {},
     "output_type": "execute_result"
    }
   ],
   "source": [
    "Top10_custos"
   ]
  },
  {
   "cell_type": "code",
   "execution_count": 89,
   "metadata": {},
   "outputs": [
    {
     "data": {
      "image/png": "[encoded data removed]",
      "text/plain": [
       "<Figure size 432x288 with 2 Axes>"
      ]
     },
     "metadata": {
      "needs_background": "light"
     },
     "output_type": "display_data"
    }
   ],
   "source": [
    "# Gráfico dos filmes com maiores notas com suas respectivas médias de popularidade\n",
    "fig, ax1 = plt.subplots()\n",
    "\n",
    "filmes = [film for film in Top10_custos['title'].values]\n",
    "\n",
    "ax2 = ax1.twinx()\n",
    "ax1.bar(filmes,Top10_custos['budget'],color='r',alpha=0.7)\n",
    "ax2.plot(filmes,Top10_custos['Lucro'],'b--')\n",
    "ax1.set_xticklabels(filmes,rotation='vertical',size=10)\n",
    "plt.title('Custos x Lucro')\n",
    "ax1.set_xlabel('filmes')\n",
    "ax1.set_ylabel('Custos', color='blue')\n",
    "ax2.set_ylabel('Lucro', color='red')\n",
    "\n",
    "plt.show()"
   ]
  },
  {
   "cell_type": "markdown",
   "metadata": {},
   "source": [
    "# Task 5: Top 10 das produtoras com os maiores valores de receita"
   ]
  },
  {
   "cell_type": "code",
   "execution_count": 65,
   "metadata": {},
   "outputs": [],
   "source": [
    "# Extraindo os valores das colunas as quais transformei em listas\n",
    "#pro = movie.apply(lambda x: pd.Series(x['production_countries']),axis=1).stack().reset_index(level=1, drop=True)\n",
    "#pro.name = 'countries'\n",
    "comp = movie.apply(lambda x: pd.Series(x['production_companies']),axis=1).stack().reset_index(level=1, drop=True)\n",
    "comp.name = 'companies'\n",
    "#spl = movie.apply(lambda x: pd.Series(x['spoken_languages']),axis=1).stack().reset_index(level=1, drop=True)\n",
    "#spl.name = 'spoken_languages'\n",
    "#gen = movie.apply(lambda x: pd.Series(x['genres']),axis=1).stack().reset_index(level=1, drop=True)\n",
    "#gen.name = 'genres'"
   ]
  },
  {
   "cell_type": "code",
   "execution_count": 66,
   "metadata": {},
   "outputs": [],
   "source": [
    "# Acrescentando as colunas novamente em um formato de str normal\n",
    "#movie = movie.drop('production_countries', axis=1).join(pro)\n",
    "Top10_prod = movie.drop('production_companies', axis=1).join(comp)\n",
    "#movie = movie.drop('spoken_languages', axis=1).join(spl)\n",
    "#movie= movie.drop('genres',axis=1).join(gen)"
   ]
  },
  {
   "cell_type": "code",
   "execution_count": 68,
   "metadata": {},
   "outputs": [],
   "source": [
    "Top10_prod = pd.DataFrame(Top10_prod.groupby('companies')['revenue'].sum().sort_values(ascending=False).head(10)).reset_index()"
   ]
  },
  {
   "cell_type": "code",
   "execution_count": 69,
   "metadata": {},
   "outputs": [
    {
     "data": {
      "text/html": [
       "<div>\n",
       "<style scoped>\n",
       "    .dataframe tbody tr th:only-of-type {\n",
       "        vertical-align: middle;\n",
       "    }\n",
       "\n",
       "    .dataframe tbody tr th {\n",
       "        vertical-align: top;\n",
       "    }\n",
       "\n",
       "    .dataframe thead th {\n",
       "        text-align: right;\n",
       "    }\n",
       "</style>\n",
       "<table border=\"1\" class=\"dataframe\">\n",
       "  <thead>\n",
       "    <tr style=\"text-align: right;\">\n",
       "      <th></th>\n",
       "      <th>companies</th>\n",
       "      <th>revenue</th>\n",
       "    </tr>\n",
       "  </thead>\n",
       "  <tbody>\n",
       "    <tr>\n",
       "      <td>0</td>\n",
       "      <td>Warner Bros.</td>\n",
       "      <td>62632168470.00</td>\n",
       "    </tr>\n",
       "    <tr>\n",
       "      <td>1</td>\n",
       "      <td>Universal Pictures</td>\n",
       "      <td>55259190410.00</td>\n",
       "    </tr>\n",
       "    <tr>\n",
       "      <td>2</td>\n",
       "      <td>Paramount Pictures</td>\n",
       "      <td>48808192922.00</td>\n",
       "    </tr>\n",
       "    <tr>\n",
       "      <td>3</td>\n",
       "      <td>Twentieth Century Fox Film Corporation</td>\n",
       "      <td>47687746332.00</td>\n",
       "    </tr>\n",
       "    <tr>\n",
       "      <td>4</td>\n",
       "      <td>Walt Disney Pictures</td>\n",
       "      <td>40837270159.00</td>\n",
       "    </tr>\n",
       "    <tr>\n",
       "      <td>5</td>\n",
       "      <td>Columbia Pictures</td>\n",
       "      <td>32279735705.00</td>\n",
       "    </tr>\n",
       "    <tr>\n",
       "      <td>6</td>\n",
       "      <td>New Line Cinema</td>\n",
       "      <td>22173391499.00</td>\n",
       "    </tr>\n",
       "    <tr>\n",
       "      <td>7</td>\n",
       "      <td>Amblin Entertainment</td>\n",
       "      <td>17343720181.00</td>\n",
       "    </tr>\n",
       "    <tr>\n",
       "      <td>8</td>\n",
       "      <td>DreamWorks SKG</td>\n",
       "      <td>15475754744.00</td>\n",
       "    </tr>\n",
       "    <tr>\n",
       "      <td>9</td>\n",
       "      <td>Dune Entertainment</td>\n",
       "      <td>15003789066.00</td>\n",
       "    </tr>\n",
       "  </tbody>\n",
       "</table>\n",
       "</div>"
      ],
      "text/plain": [
       "                                companies        revenue\n",
       "0                            Warner Bros. 62632168470.00\n",
       "1                      Universal Pictures 55259190410.00\n",
       "2                      Paramount Pictures 48808192922.00\n",
       "3  Twentieth Century Fox Film Corporation 47687746332.00\n",
       "4                    Walt Disney Pictures 40837270159.00\n",
       "5                       Columbia Pictures 32279735705.00\n",
       "6                         New Line Cinema 22173391499.00\n",
       "7                    Amblin Entertainment 17343720181.00\n",
       "8                          DreamWorks SKG 15475754744.00\n",
       "9                      Dune Entertainment 15003789066.00"
      ]
     },
     "execution_count": 69,
     "metadata": {},
     "output_type": "execute_result"
    }
   ],
   "source": [
    "Top10_prod"
   ]
  },
  {
   "cell_type": "code",
   "execution_count": 70,
   "metadata": {},
   "outputs": [
    {
     "data": {
      "image/png": "[encoded data removed]",
      "text/plain": [
       "<Figure size 1080x360 with 1 Axes>"
      ]
     },
     "metadata": {
      "needs_background": "light"
     },
     "output_type": "display_data"
    }
   ],
   "source": [
    "plt.figure(figsize=(15,5))\n",
    "sns.barplot(x=Top10_prod['companies'], y=Top10_prod['revenue'])\n",
    "plt.xticks(rotation='vertical')\n",
    "plt.show()"
   ]
  },
  {
   "cell_type": "markdown",
   "metadata": {},
   "source": [
    "# Task 6 : TOP 10 das franquias de filmes que obtém as maiores receitas "
   ]
  },
  {
   "cell_type": "code",
   "execution_count": 71,
   "metadata": {},
   "outputs": [
    {
     "name": "stderr",
     "output_type": "stream",
     "text": [
      "C:\\Users\\Eduarda\\Anaconda3\\lib\\site-packages\\ipykernel_launcher.py:3: SettingWithCopyWarning: \n",
      "A value is trying to be set on a copy of a slice from a DataFrame.\n",
      "Try using .loc[row_indexer,col_indexer] = value instead\n",
      "\n",
      "See the caveats in the documentation: http://pandas.pydata.org/pandas-docs/stable/user_guide/indexing.html#returning-a-view-versus-a-copy\n",
      "  This is separate from the ipykernel package so we can avoid doing imports until\n"
     ]
    }
   ],
   "source": [
    "# Selecionando os filmes aos quais obtém a coleção preenchida\n",
    "movie_collection = movie[movie['belongs_to_collection'].notnull()]\n",
    "movie_collection['belongs_to_collection'] = movie_collection['belongs_to_collection'].apply(lambda x: literal_eval(x)).apply(lambda x: x['name'] if isinstance(x, dict) else np.nan)\n",
    "movie_collection = movie_collection[movie_collection['belongs_to_collection'].notnull()]                                           "
   ]
  },
  {
   "cell_type": "code",
   "execution_count": 73,
   "metadata": {},
   "outputs": [
    {
     "data": {
      "text/html": [
       "<div>\n",
       "<style scoped>\n",
       "    .dataframe tbody tr th:only-of-type {\n",
       "        vertical-align: middle;\n",
       "    }\n",
       "\n",
       "    .dataframe tbody tr th {\n",
       "        vertical-align: top;\n",
       "    }\n",
       "\n",
       "    .dataframe thead th {\n",
       "        text-align: right;\n",
       "    }\n",
       "</style>\n",
       "<table border=\"1\" class=\"dataframe\">\n",
       "  <thead>\n",
       "    <tr style=\"text-align: right;\">\n",
       "      <th></th>\n",
       "      <th>adult</th>\n",
       "      <th>belongs_to_collection</th>\n",
       "      <th>budget</th>\n",
       "      <th>genres</th>\n",
       "      <th>id</th>\n",
       "      <th>original_language</th>\n",
       "      <th>overview</th>\n",
       "      <th>popularity</th>\n",
       "      <th>production_companies</th>\n",
       "      <th>production_countries</th>\n",
       "      <th>release_date</th>\n",
       "      <th>revenue</th>\n",
       "      <th>runtime</th>\n",
       "      <th>spoken_languages</th>\n",
       "      <th>status</th>\n",
       "      <th>tagline</th>\n",
       "      <th>title</th>\n",
       "      <th>vote_average</th>\n",
       "      <th>vote_count</th>\n",
       "      <th>len_genres</th>\n",
       "      <th>year</th>\n",
       "    </tr>\n",
       "  </thead>\n",
       "  <tbody>\n",
       "    <tr>\n",
       "      <td>0</td>\n",
       "      <td>False</td>\n",
       "      <td>Toy Story Collection</td>\n",
       "      <td>30000000</td>\n",
       "      <td>[Animation, Comedy, Family]</td>\n",
       "      <td>862</td>\n",
       "      <td>en</td>\n",
       "      <td>Led by Woody, Andy's toys live happily in his ...</td>\n",
       "      <td>21.95</td>\n",
       "      <td>[Pixar Animation Studios]</td>\n",
       "      <td>[United States of America]</td>\n",
       "      <td>1995-10-30</td>\n",
       "      <td>373554033.00</td>\n",
       "      <td>81.00</td>\n",
       "      <td>[English]</td>\n",
       "      <td>Released</td>\n",
       "      <td>NaN</td>\n",
       "      <td>Toy Story</td>\n",
       "      <td>7.70</td>\n",
       "      <td>5415.00</td>\n",
       "      <td>3</td>\n",
       "      <td>1995</td>\n",
       "    </tr>\n",
       "    <tr>\n",
       "      <td>2</td>\n",
       "      <td>False</td>\n",
       "      <td>Grumpy Old Men Collection</td>\n",
       "      <td>0</td>\n",
       "      <td>[Romance, Comedy]</td>\n",
       "      <td>15602</td>\n",
       "      <td>en</td>\n",
       "      <td>A family wedding reignites the ancient feud be...</td>\n",
       "      <td>11.71</td>\n",
       "      <td>[Warner Bros., Lancaster Gate]</td>\n",
       "      <td>[United States of America]</td>\n",
       "      <td>1995-12-22</td>\n",
       "      <td>0.00</td>\n",
       "      <td>101.00</td>\n",
       "      <td>[English]</td>\n",
       "      <td>Released</td>\n",
       "      <td>Still Yelling. Still Fighting. Still Ready for...</td>\n",
       "      <td>Grumpier Old Men</td>\n",
       "      <td>6.50</td>\n",
       "      <td>92.00</td>\n",
       "      <td>2</td>\n",
       "      <td>1995</td>\n",
       "    </tr>\n",
       "    <tr>\n",
       "      <td>4</td>\n",
       "      <td>False</td>\n",
       "      <td>Father of the Bride Collection</td>\n",
       "      <td>0</td>\n",
       "      <td>[Comedy]</td>\n",
       "      <td>11862</td>\n",
       "      <td>en</td>\n",
       "      <td>Just when George Banks has recovered from his ...</td>\n",
       "      <td>8.39</td>\n",
       "      <td>[Sandollar Productions, Touchstone Pictures]</td>\n",
       "      <td>[United States of America]</td>\n",
       "      <td>1995-02-10</td>\n",
       "      <td>76578911.00</td>\n",
       "      <td>106.00</td>\n",
       "      <td>[English]</td>\n",
       "      <td>Released</td>\n",
       "      <td>Just When His World Is Back To Normal... He's ...</td>\n",
       "      <td>Father of the Bride Part II</td>\n",
       "      <td>5.70</td>\n",
       "      <td>173.00</td>\n",
       "      <td>1</td>\n",
       "      <td>1995</td>\n",
       "    </tr>\n",
       "    <tr>\n",
       "      <td>9</td>\n",
       "      <td>False</td>\n",
       "      <td>James Bond Collection</td>\n",
       "      <td>58000000</td>\n",
       "      <td>[Adventure, Action, Thriller]</td>\n",
       "      <td>710</td>\n",
       "      <td>en</td>\n",
       "      <td>James Bond must unmask the mysterious head of ...</td>\n",
       "      <td>14.69</td>\n",
       "      <td>[United Artists, Eon Productions]</td>\n",
       "      <td>[United Kingdom, United States of America]</td>\n",
       "      <td>1995-11-16</td>\n",
       "      <td>352194034.00</td>\n",
       "      <td>130.00</td>\n",
       "      <td>[English, Pусский, Español]</td>\n",
       "      <td>Released</td>\n",
       "      <td>No limits. No fears. No substitutes.</td>\n",
       "      <td>GoldenEye</td>\n",
       "      <td>6.60</td>\n",
       "      <td>1194.00</td>\n",
       "      <td>3</td>\n",
       "      <td>1995</td>\n",
       "    </tr>\n",
       "    <tr>\n",
       "      <td>12</td>\n",
       "      <td>False</td>\n",
       "      <td>Balto Collection</td>\n",
       "      <td>0</td>\n",
       "      <td>[Family, Animation, Adventure]</td>\n",
       "      <td>21032</td>\n",
       "      <td>en</td>\n",
       "      <td>An outcast half-wolf risks his life to prevent...</td>\n",
       "      <td>12.14</td>\n",
       "      <td>[Universal Pictures, Amblin Entertainment, Amb...</td>\n",
       "      <td>[United States of America]</td>\n",
       "      <td>1995-12-22</td>\n",
       "      <td>11348324.00</td>\n",
       "      <td>78.00</td>\n",
       "      <td>[English]</td>\n",
       "      <td>Released</td>\n",
       "      <td>Part Dog. Part Wolf. All Hero.</td>\n",
       "      <td>Balto</td>\n",
       "      <td>7.10</td>\n",
       "      <td>423.00</td>\n",
       "      <td>3</td>\n",
       "      <td>1995</td>\n",
       "    </tr>\n",
       "  </tbody>\n",
       "</table>\n",
       "</div>"
      ],
      "text/plain": [
       "    adult           belongs_to_collection    budget  \\\n",
       "0   False            Toy Story Collection  30000000   \n",
       "2   False       Grumpy Old Men Collection         0   \n",
       "4   False  Father of the Bride Collection         0   \n",
       "9   False           James Bond Collection  58000000   \n",
       "12  False                Balto Collection         0   \n",
       "\n",
       "                            genres     id original_language  \\\n",
       "0      [Animation, Comedy, Family]    862                en   \n",
       "2                [Romance, Comedy]  15602                en   \n",
       "4                         [Comedy]  11862                en   \n",
       "9    [Adventure, Action, Thriller]    710                en   \n",
       "12  [Family, Animation, Adventure]  21032                en   \n",
       "\n",
       "                                             overview  popularity  \\\n",
       "0   Led by Woody, Andy's toys live happily in his ...       21.95   \n",
       "2   A family wedding reignites the ancient feud be...       11.71   \n",
       "4   Just when George Banks has recovered from his ...        8.39   \n",
       "9   James Bond must unmask the mysterious head of ...       14.69   \n",
       "12  An outcast half-wolf risks his life to prevent...       12.14   \n",
       "\n",
       "                                 production_companies  \\\n",
       "0                           [Pixar Animation Studios]   \n",
       "2                      [Warner Bros., Lancaster Gate]   \n",
       "4        [Sandollar Productions, Touchstone Pictures]   \n",
       "9                   [United Artists, Eon Productions]   \n",
       "12  [Universal Pictures, Amblin Entertainment, Amb...   \n",
       "\n",
       "                          production_countries release_date      revenue  \\\n",
       "0                   [United States of America]   1995-10-30 373554033.00   \n",
       "2                   [United States of America]   1995-12-22         0.00   \n",
       "4                   [United States of America]   1995-02-10  76578911.00   \n",
       "9   [United Kingdom, United States of America]   1995-11-16 352194034.00   \n",
       "12                  [United States of America]   1995-12-22  11348324.00   \n",
       "\n",
       "    runtime             spoken_languages    status  \\\n",
       "0     81.00                    [English]  Released   \n",
       "2    101.00                    [English]  Released   \n",
       "4    106.00                    [English]  Released   \n",
       "9    130.00  [English, Pусский, Español]  Released   \n",
       "12    78.00                    [English]  Released   \n",
       "\n",
       "                                              tagline  \\\n",
       "0                                                 NaN   \n",
       "2   Still Yelling. Still Fighting. Still Ready for...   \n",
       "4   Just When His World Is Back To Normal... He's ...   \n",
       "9                No limits. No fears. No substitutes.   \n",
       "12                     Part Dog. Part Wolf. All Hero.   \n",
       "\n",
       "                          title  vote_average  vote_count  len_genres  year  \n",
       "0                     Toy Story          7.70     5415.00           3  1995  \n",
       "2              Grumpier Old Men          6.50       92.00           2  1995  \n",
       "4   Father of the Bride Part II          5.70      173.00           1  1995  \n",
       "9                     GoldenEye          6.60     1194.00           3  1995  \n",
       "12                        Balto          7.10      423.00           3  1995  "
      ]
     },
     "execution_count": 73,
     "metadata": {},
     "output_type": "execute_result"
    }
   ],
   "source": [
    "movie_collection.head()"
   ]
  },
  {
   "cell_type": "code",
   "execution_count": 77,
   "metadata": {},
   "outputs": [],
   "source": [
    "movie_col_receita = pd.DataFrame(movie_collection.groupby('belongs_to_collection')['revenue'].sum().sort_values(ascending=False).head(10)).reset_index()"
   ]
  },
  {
   "cell_type": "code",
   "execution_count": 78,
   "metadata": {},
   "outputs": [
    {
     "data": {
      "text/html": [
       "<div>\n",
       "<style scoped>\n",
       "    .dataframe tbody tr th:only-of-type {\n",
       "        vertical-align: middle;\n",
       "    }\n",
       "\n",
       "    .dataframe tbody tr th {\n",
       "        vertical-align: top;\n",
       "    }\n",
       "\n",
       "    .dataframe thead th {\n",
       "        text-align: right;\n",
       "    }\n",
       "</style>\n",
       "<table border=\"1\" class=\"dataframe\">\n",
       "  <thead>\n",
       "    <tr style=\"text-align: right;\">\n",
       "      <th></th>\n",
       "      <th>belongs_to_collection</th>\n",
       "      <th>revenue</th>\n",
       "    </tr>\n",
       "  </thead>\n",
       "  <tbody>\n",
       "    <tr>\n",
       "      <td>0</td>\n",
       "      <td>Harry Potter Collection</td>\n",
       "      <td>7707367425.00</td>\n",
       "    </tr>\n",
       "    <tr>\n",
       "      <td>1</td>\n",
       "      <td>Star Wars Collection</td>\n",
       "      <td>7434494790.00</td>\n",
       "    </tr>\n",
       "    <tr>\n",
       "      <td>2</td>\n",
       "      <td>James Bond Collection</td>\n",
       "      <td>7106970239.00</td>\n",
       "    </tr>\n",
       "    <tr>\n",
       "      <td>3</td>\n",
       "      <td>The Fast and the Furious Collection</td>\n",
       "      <td>5125098793.00</td>\n",
       "    </tr>\n",
       "    <tr>\n",
       "      <td>4</td>\n",
       "      <td>Pirates of the Caribbean Collection</td>\n",
       "      <td>4521576826.00</td>\n",
       "    </tr>\n",
       "    <tr>\n",
       "      <td>5</td>\n",
       "      <td>Transformers Collection</td>\n",
       "      <td>4366101244.00</td>\n",
       "    </tr>\n",
       "    <tr>\n",
       "      <td>6</td>\n",
       "      <td>Despicable Me Collection</td>\n",
       "      <td>3691070216.00</td>\n",
       "    </tr>\n",
       "    <tr>\n",
       "      <td>7</td>\n",
       "      <td>The Twilight Collection</td>\n",
       "      <td>3342107290.00</td>\n",
       "    </tr>\n",
       "    <tr>\n",
       "      <td>8</td>\n",
       "      <td>Ice Age Collection</td>\n",
       "      <td>3216708553.00</td>\n",
       "    </tr>\n",
       "    <tr>\n",
       "      <td>9</td>\n",
       "      <td>Jurassic Park Collection</td>\n",
       "      <td>3031484143.00</td>\n",
       "    </tr>\n",
       "  </tbody>\n",
       "</table>\n",
       "</div>"
      ],
      "text/plain": [
       "                 belongs_to_collection       revenue\n",
       "0              Harry Potter Collection 7707367425.00\n",
       "1                 Star Wars Collection 7434494790.00\n",
       "2                James Bond Collection 7106970239.00\n",
       "3  The Fast and the Furious Collection 5125098793.00\n",
       "4  Pirates of the Caribbean Collection 4521576826.00\n",
       "5              Transformers Collection 4366101244.00\n",
       "6             Despicable Me Collection 3691070216.00\n",
       "7              The Twilight Collection 3342107290.00\n",
       "8                   Ice Age Collection 3216708553.00\n",
       "9             Jurassic Park Collection 3031484143.00"
      ]
     },
     "execution_count": 78,
     "metadata": {},
     "output_type": "execute_result"
    }
   ],
   "source": [
    "movie_col_receita"
   ]
  },
  {
   "cell_type": "code",
   "execution_count": 83,
   "metadata": {},
   "outputs": [
    {
     "data": {
      "image/png": "[encoded data removed]",
      "text/plain": [
       "<Figure size 720x360 with 1 Axes>"
      ]
     },
     "metadata": {
      "needs_background": "light"
     },
     "output_type": "display_data"
    }
   ],
   "source": [
    "plt.figure(figsize=(10,5))\n",
    "sns.barplot(x= movie_col_receita['belongs_to_collection'], y = movie_col_receita['revenue'])\n",
    "plt.xticks(rotation='vertical')\n",
    "plt.show()"
   ]
  },
  {
   "cell_type": "markdown",
   "metadata": {},
   "source": [
    "# Task 7 : TOP 10 das franquias de filmes que obtém as maiores popularidades"
   ]
  },
  {
   "cell_type": "code",
   "execution_count": 93,
   "metadata": {},
   "outputs": [],
   "source": [
    "movie_col_popularidade = pd.DataFrame(movie_collection.groupby('belongs_to_collection')['popularity'].sum().sort_values(ascending=False).head(10)).reset_index()"
   ]
  },
  {
   "cell_type": "code",
   "execution_count": 96,
   "metadata": {},
   "outputs": [],
   "source": [
    "movie_col_popularidade = movie_col_popularidade.sort_values(by=['popularity'],ascending=True)"
   ]
  },
  {
   "cell_type": "code",
   "execution_count": 101,
   "metadata": {},
   "outputs": [
    {
     "data": {
      "image/png": "[encoded data removed]",
      "text/plain": [
       "<Figure size 432x288 with 1 Axes>"
      ]
     },
     "metadata": {
      "needs_background": "light"
     },
     "output_type": "display_data"
    }
   ],
   "source": [
    "plt.barh(movie_col_popularidade['belongs_to_collection'],movie_col_popularidade['popularity'],color='c')\n",
    "plt.xlabel('Popularidade')\n",
    "plt.ylabel('Franquias')\n",
    "plt.title('TOP 10 franquias com maiores popularidades',size=13,loc='center')\n",
    "plt.grid(True)\n",
    "plt.show()"
   ]
  },
  {
   "cell_type": "markdown",
   "metadata": {},
   "source": [
    "# Task 8 : Qual é a média , mediana,desvio padrão e soma de tempo da duração de um filme por língua? "
   ]
  },
  {
   "cell_type": "code",
   "execution_count": 107,
   "metadata": {},
   "outputs": [],
   "source": [
    "movie_duracao = movie[['original_language','runtime']].copy()"
   ]
  },
  {
   "cell_type": "code",
   "execution_count": 152,
   "metadata": {},
   "outputs": [],
   "source": [
    "movie_time = pd.pivot_table(movie_duracao,index='original_language',values='runtime',aggfunc=('sum','median','mean','std','count')).reset_index()"
   ]
  },
  {
   "cell_type": "code",
   "execution_count": 153,
   "metadata": {},
   "outputs": [
    {
     "data": {
      "text/html": [
       "<div>\n",
       "<style scoped>\n",
       "    .dataframe tbody tr th:only-of-type {\n",
       "        vertical-align: middle;\n",
       "    }\n",
       "\n",
       "    .dataframe tbody tr th {\n",
       "        vertical-align: top;\n",
       "    }\n",
       "\n",
       "    .dataframe thead th {\n",
       "        text-align: right;\n",
       "    }\n",
       "</style>\n",
       "<table border=\"1\" class=\"dataframe\">\n",
       "  <thead>\n",
       "    <tr style=\"text-align: right;\">\n",
       "      <th></th>\n",
       "      <th>original_language</th>\n",
       "      <th>count</th>\n",
       "      <th>mean</th>\n",
       "      <th>median</th>\n",
       "      <th>std</th>\n",
       "      <th>sum</th>\n",
       "    </tr>\n",
       "  </thead>\n",
       "  <tbody>\n",
       "    <tr>\n",
       "      <td>0</td>\n",
       "      <td>ab</td>\n",
       "      <td>10</td>\n",
       "      <td>84.80</td>\n",
       "      <td>86.50</td>\n",
       "      <td>33.70</td>\n",
       "      <td>848.00</td>\n",
       "    </tr>\n",
       "    <tr>\n",
       "      <td>1</td>\n",
       "      <td>af</td>\n",
       "      <td>2</td>\n",
       "      <td>103.00</td>\n",
       "      <td>103.00</td>\n",
       "      <td>12.73</td>\n",
       "      <td>206.00</td>\n",
       "    </tr>\n",
       "    <tr>\n",
       "      <td>2</td>\n",
       "      <td>am</td>\n",
       "      <td>2</td>\n",
       "      <td>145.00</td>\n",
       "      <td>145.00</td>\n",
       "      <td>7.07</td>\n",
       "      <td>290.00</td>\n",
       "    </tr>\n",
       "    <tr>\n",
       "      <td>3</td>\n",
       "      <td>ar</td>\n",
       "      <td>39</td>\n",
       "      <td>104.36</td>\n",
       "      <td>100.00</td>\n",
       "      <td>54.37</td>\n",
       "      <td>4070.00</td>\n",
       "    </tr>\n",
       "    <tr>\n",
       "      <td>4</td>\n",
       "      <td>ay</td>\n",
       "      <td>1</td>\n",
       "      <td>75.00</td>\n",
       "      <td>75.00</td>\n",
       "      <td>nan</td>\n",
       "      <td>75.00</td>\n",
       "    </tr>\n",
       "  </tbody>\n",
       "</table>\n",
       "</div>"
      ],
      "text/plain": [
       "  original_language  count   mean  median   std     sum\n",
       "0                ab     10  84.80   86.50 33.70  848.00\n",
       "1                af      2 103.00  103.00 12.73  206.00\n",
       "2                am      2 145.00  145.00  7.07  290.00\n",
       "3                ar     39 104.36  100.00 54.37 4070.00\n",
       "4                ay      1  75.00   75.00   nan   75.00"
      ]
     },
     "execution_count": 153,
     "metadata": {},
     "output_type": "execute_result"
    }
   ],
   "source": [
    "movie_time.head()"
   ]
  },
  {
   "cell_type": "code",
   "execution_count": 212,
   "metadata": {},
   "outputs": [
    {
     "data": {
      "image/png": "[encoded data removed]",
      "text/plain": [
       "<Figure size 432x288 with 1 Axes>"
      ]
     },
     "metadata": {
      "needs_background": "light"
     },
     "output_type": "display_data"
    }
   ],
   "source": [
    "plt.scatter(movie_time['mean'],movie_time['sum'])\n",
    "plt.show()"
   ]
  },
  {
   "cell_type": "code",
   "execution_count": 201,
   "metadata": {},
   "outputs": [
    {
     "data": {
      "image/png": "[encoded data removed]",
      "text/plain": [
       "<Figure size 936x360 with 1 Axes>"
      ]
     },
     "metadata": {
      "needs_background": "light"
     },
     "output_type": "display_data"
    }
   ],
   "source": [
    "lan = [lang for lang in movie_time['original_language'].values]\n",
    "plt.figure(figsize=(13,5))\n",
    "plt.hist(movie_time['mean'],color='b',alpha=0.7,label='mean')\n",
    "#plt.hist(movie_time['median'],color='r',edgecolor='k',alpha=0.5,label='median')\n",
    "plt.xlabel('duração')\n",
    "plt.ylabel('Total da quantidade')\n",
    "plt.legend()\n",
    "plt.grid(True)\n",
    "plt.show()"
   ]
  },
  {
   "cell_type": "code",
   "execution_count": 222,
   "metadata": {},
   "outputs": [],
   "source": [
    "Top15_duracao = movie_time.sort_values(by=['sum'],ascending=False).head(15)"
   ]
  },
  {
   "cell_type": "code",
   "execution_count": 225,
   "metadata": {},
   "outputs": [
    {
     "data": {
      "image/png": "[encoded data removed]",
      "text/plain": [
       "<Figure size 432x288 with 1 Axes>"
      ]
     },
     "metadata": {
      "needs_background": "light"
     },
     "output_type": "display_data"
    }
   ],
   "source": [
    "plt.bar(Top15_duracao['original_language'],Top15_duracao['sum'],color='r')\n",
    "plt.xlabel('Língua')\n",
    "plt.ylabel('Total da duração')\n",
    "plt.title('Duração x Lingua')\n",
    "plt.show()"
   ]
  }
 ],
 "metadata": {
  "kernelspec": {
   "display_name": "Python 3",
   "language": "python",
   "name": "python3"
  },
  "language_info": {
   "codemirror_mode": {
    "name": "ipython",
    "version": 3
   },
   "file_extension": ".py",
   "mimetype": "text/x-python",
   "name": "python",
   "nbconvert_exporter": "python",
   "pygments_lexer": "ipython3",
   "version": "3.7.4"
  }
 },
 "nbformat": 4,
 "nbformat_minor": 2
}
